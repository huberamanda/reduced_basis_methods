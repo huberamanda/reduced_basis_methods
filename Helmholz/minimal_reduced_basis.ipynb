{
 "cells": [
  {
   "cell_type": "markdown",
   "metadata": {},
   "source": [
    "<h2> Reduced Basis Methods for the Helmholz Equation </h2>\n",
    "\n",
    "We want to create a reduced basis space for the Helmholz equation\n",
    "\\begin{equation}\n",
    "    \\Delta u - \\omega^2u = f\n",
    "\\end{equation}\n",
    "\n",
    "and Robin (\"absorbing\") boundary conditions\n",
    "\n",
    "$$\n",
    "\\frac{\\partial u}{\\partial n} + i \\omega u = 0 \\qquad \\text{ on } \\partial \\Omega\n",
    "$$\n",
    "\n",
    "defined on a two dimensional domain $\\Omega$. It has the Galerkin formulation in the finite element space $V_h$. Find an $u_h$ so that\n",
    "\n",
    "\\begin{equation}\n",
    "    \\int_{\\Omega} \\nabla u_h \\nabla v_h \\text{dx} - i\\omega \\int_{\\partial \\Omega} u_hv_h \\text{ds} - \\omega^2 \\int_{\\Omega} u_hv_h \\text{dx}  = \\int_{\\Omega} fv_h \\text{dx}\n",
    "\\end{equation}\n",
    "\n",
    "holds for all $v_h \\in V_h$. We can write this as an equation of bilinearforms \n",
    "\n",
    "\\begin{equation}\n",
    "    k(u_h, v_h) + \\omega r(u_h,v_h) + \\omega^2 m(u_h, v_h) = \\int_{\\Omega} fv_h \\text{dx}  \\tag{1}\n",
    "\\end{equation}\n",
    "\n",
    "where $r$ only exists if we want Robin boundary conditions, otherwise $r(u,v) \\equiv 0$. To get Dirichlet boundaries, we choose our test functions $v$ from the Sobolev space $H_0^1(\\Omega)$ and Neumann boundaries are enforced for $v \\in H^1(\\Omega)$. "
   ]
  },
  {
   "cell_type": "markdown",
   "metadata": {},
   "source": [
    "<h3> The reduced basis method </h3>\n",
    "\n",
    "In a nutshell the idea of creating a reduced basis space is to choose a so called snapshot of $N$ parameters $ \\{ \\omega_1, .., \\omega_N \\} $ for which we solve the system $(1)$. By doing so we get linearly independent snapshot solutions $\\{u_h^1, .., u_h^N\\}$. The space \n",
    "\\begin{equation}\n",
    "V_N := \\overline{\\text{span}\\{u_h^1, .., u_h^N\\}}\n",
    "\\end{equation}\n",
    "is a linear subspace of $V_h$. To approximate a solution for an arbitrary $\\omega$ we now have to solve the system $(1)$ only for $v_N \\in V_N$, which is computationally way less expensive than solving the original system. "
   ]
  },
  {
   "cell_type": "markdown",
   "metadata": {},
   "source": [
    "<h3> Generate a Reduced Basis Space </h3>\n",
    "\n",
    "We first need to import some libraries and then we write a little python class. "
   ]
  },
  {
   "cell_type": "code",
   "execution_count": 1,
   "metadata": {},
   "outputs": [],
   "source": [
    "from __future__ import print_function\n",
    "from ipywidgets import interact, interactive, fixed, interact_manual\n",
    "import ipywidgets as widgets\n",
    "\n",
    "from ngsolve import *\n",
    "from netgen.geom2d import unit_square\n",
    "\n",
    "\n",
    "import numpy as np\n",
    "import scipy\n",
    "import math\n",
    "import time\n",
    "\n",
    "from ngsolve.webgui import Draw\n",
    "\n",
    "np.random.seed(42)\n",
    "\n"
   ]
  },
  {
   "cell_type": "markdown",
   "metadata": {},
   "source": [
    "The input parameter for the class is the finite element space, a list `blf` containing the bilinear forms in order `[k, r, m]` where `None` indicates that a bilinear form is constant zero and a right hand side `rhs`. The parameter `snap` is a list with inital snapshot parameters."
   ]
  },
  {
   "cell_type": "code",
   "execution_count": 2,
   "metadata": {},
   "outputs": [],
   "source": [
    "class ReducedBasis:\n",
    "    \n",
    "    def __init__(self, fes, blf, rhs, snap = None):\n",
    "\n",
    "        self.logging = True    \n",
    "        \n",
    "        self.fes = fes\n",
    "        \n",
    "        # set (bi-)linear forms and matrices\n",
    "        self.omega = Parameter(0)\n",
    "\n",
    "        self.bfs = {} # dictionary for bilinear forms\n",
    "        self.a = BilinearForm(self.fes)\n",
    "        for j in range(3):\n",
    "            if blf[j]:\n",
    "                self.a += sum([self.omega**j*igl.coef * igl.symbol for igl in blf[j]])\n",
    "                self.bfs[j] = BilinearForm(blf[j]).Assemble()\n",
    "        self.a.Assemble()\n",
    "        \n",
    "        self.f = LinearForm(self.fes).Add(rhs).Assemble()\n",
    "        \n",
    "        # store ainv for better performance\n",
    "        self.ainv = self.a.mat.Inverse(self.fes.FreeDofs(), inverse=\"sparsecholesky\")\n",
    "\n",
    "        # initialize grid functions\n",
    "        self.gfu = GridFunction(self.fes)\n",
    "        self.drawu = GridFunction(self.fes)\n",
    "\n",
    "        # temporary ngsolve vectors\n",
    "        self.__bv_tmp = self.bfs[[*self.bfs][0]].mat.CreateColVector()\n",
    "        self.__bv_tmp2 = self.bfs[[*self.bfs][0]].mat.CreateColVector()\n",
    "        self.__gf_tmp = GridFunction(self.fes)\n",
    "        \n",
    "        \n",
    "        # set to zero at dirichlet boundaries\n",
    "        self.proj = Projector(self.fes.FreeDofs(), True)\n",
    "        self.proj.Project(self.f.vec)\n",
    "        \n",
    "        self.__snapshots = []\n",
    "        self.V = None\n",
    "\n",
    "        if snap is not None:\n",
    "            self.addSnapshots(snap)\n",
    "            "
   ]
  },
  {
   "cell_type": "markdown",
   "metadata": {},
   "source": [
    "Next we can create a function that takes a list of omegas, sets them as snapshots and computes the reduced basis. To have the possibility to dynamically expand our reduced basis later on, we will expand the list of snapshot parameters instead of resetting them.\n",
    "\n",
    "Let $n$ be the dimension of the original space $V_h$. The snapshot solutions $\\{u_h^1, .., u_h^N\\}$ could be used directly as basis functions for $V_N$. However we prefer the matrix $V \\in \\mathbb{R}^{n\\times N} $ that contains the coefficients of the reduced basis functions $\\{\\zeta^1, .., \\zeta^N\\}$  to be as pretty as possible. Therefore we make sure that the coefficient vectors of the $\\zeta_i$ form an ortonormal system respective the Euklidean norm. This we achieve by performing a QR-decomposition and only using the Q part. \n",
    "\n",
    "\n",
    "We now solve the equation $(1)$ in the original space for the new snapshots. If the matrix $V$ already contains some basis functions, we extend the basis. "
   ]
  },
  {
   "cell_type": "code",
   "execution_count": 3,
   "metadata": {},
   "outputs": [],
   "source": [
    "class ReducedBasis(ReducedBasis):\n",
    "\n",
    "    def addSnapshots(self, new_snapshots):\n",
    "        \n",
    "        if self.logging: print(\"compute Reduced Basis for snapshots \", new_snapshots)\n",
    "    \n",
    "        with TaskManager():\n",
    "            \n",
    "            for omega in new_snapshots:\n",
    "                if omega not in self.__snapshots:\n",
    "                    \n",
    "                    self.__snapshots.append(omega)\n",
    "\n",
    "                    # compute FEM solution for parameter omega\n",
    "                    self.omega.Set(omega)\n",
    "                    self.a.Assemble()\n",
    "\n",
    "                    self.ainv.Update()\n",
    "                    self.gfu.vec.data = self.ainv * self.f.vec\n",
    "\n",
    "                    if self.V is None:\n",
    "                        self.V = MultiVector(self.gfu.vec, 1)\n",
    "                        self.V[0] = self.gfu.vec\n",
    "                    else:\n",
    "                        self.V.AppendOrthogonalize(self.gfu.vec)\n",
    "                        \n",
    "            # compute matrices in reduced space\n",
    "            mv = MultiVector(self.gfu.vec, len(self.__snapshots))\n",
    "            self.red = {} # dictionary of matrices in reduced space\n",
    "            for key in self.bfs.keys():\n",
    "                mv[0:len(self.__snapshots)] = self.bfs[key].mat * self.V\n",
    "                self.red[key] = InnerProduct(self.V, mv, conjugate = False)\n",
    "\n",
    "            # right hand side in reduced space\n",
    "            mv = MultiVector(self.f.vec, 1)\n",
    "            mv[0] = self.f.vec\n",
    "            self.f_red = InnerProduct(self.V, mv, conjugate = False)\n",
    "            \n",
    "            \n",
    "            if self.logging: print(\"finished computing Reduced Basis\")\n",
    "                \n",
    "        # store smallest and biggest snapshot parameter\n",
    "        self.omega_min = min(self.__snapshots)\n",
    "        self.omega_max = max(self.__snapshots)\n",
    "        \n",
    "        \n",
    "        # only needed in this Jupyter Notebook \n",
    "        self.__update_res_mat = True\n",
    "\n",
    "\n",
    "    def getSnapshots(self):\n",
    "        return self.__snapshots"
   ]
  },
  {
   "cell_type": "markdown",
   "metadata": {},
   "source": [
    "To look at the solutions of the reduced system, we want to implement a draw function, that takes a parameter $\\omega$, computes the reduced solution and displays it in the ngsolve webgui."
   ]
  },
  {
   "cell_type": "code",
   "execution_count": 4,
   "metadata": {},
   "outputs": [],
   "source": [
    "class ReducedBasis(ReducedBasis):\n",
    "    \n",
    "    def draw(self, omega, redraw=False):\n",
    "        \n",
    "        # compute reduced solution\n",
    "\n",
    "        ## TODO: updatable a_red.inv (Base Matrix instead of bla-Matrix?) and omega as parameter\n",
    "        A = Matrix(len(self.__snapshots), len(self.__snapshots), self.fes.is_complex)\n",
    "        A[:] = 0\n",
    "        for key in self.red.keys():\n",
    "            A += self.red[key]*omega**key\n",
    "        \n",
    "        v = A.I * self.f_red\n",
    "        \n",
    "        self.drawu.vec.data = self.V * v[:,0]\n",
    "        \n",
    "        if self.logging: print(\"omega: {}, norm of solution: {}\".format(omega, \n",
    "            np.real(Integrate ( Conj(self.drawu)*(self.drawu), self.fes.mesh))))\n",
    "        \n",
    "        # draw solution\n",
    "        if not redraw:\n",
    "            self.scene = Draw(self.drawu)\n",
    "        else:\n",
    "            self.scene.Redraw()\n"
   ]
  },
  {
   "cell_type": "markdown",
   "metadata": {},
   "source": [
    "To test the implementation so far, we define an H1-FEM space on the unit square with Dirichlet boundary values on the bottom and right. To compute the first set of snapshot solutions we choose the parameters $\\omega \\in \\{0, .., 10\\}$. Subsequently we create a slider to visualize the reduced solutions for a set of omegas. "
   ]
  },
  {
   "cell_type": "code",
   "execution_count": 5,
   "metadata": {
    "scrolled": false
   },
   "outputs": [
    {
     "name": "stdout",
     "output_type": "stream",
     "text": [
      "Help on class LinearForm in module ngsolve.comp:\n",
      "\n",
      "class LinearForm(NGS_Object)\n",
      " |  Used to store the left hand side of a PDE. Add integrators\n",
      " |  (ngsolve.LFI) to it to implement your PDE.\n",
      " |  \n",
      " |  Parameters:\n",
      " |  \n",
      " |  space : ngsolve.FESpace\n",
      " |    The space the linearform is defined on. Can be a compound\n",
      " |    FESpace for a mixed formulation.\n",
      " |  \n",
      " |  flags : dict\n",
      " |    Additional options for the linearform, for example:\n",
      " |  \n",
      " |      print : bool\n",
      " |        Write additional debug information to testout file. This\n",
      " |        file must be set by ngsolve.SetTestoutFile. Use\n",
      " |        ngsolve.SetNumThreads(1) for serial output.\n",
      " |  \n",
      " |  \n",
      " |   Keyword arguments can be:\n",
      " |  print: bool\n",
      " |    Write additional debug information to testout file.\n",
      " |    This file must be set by ngsolve.SetTestoutFile. Use\n",
      " |    ngsolve.SetNumThreads(1) for serial output.\n",
      " |  printelvec: bool\n",
      " |    print element vectors to testout file\n",
      " |  \n",
      " |  Method resolution order:\n",
      " |      LinearForm\n",
      " |      NGS_Object\n",
      " |      pybind11_builtins.pybind11_object\n",
      " |      builtins.object\n",
      " |  \n",
      " |  Methods defined here:\n",
      " |  \n",
      " |  Add(...)\n",
      " |      Add(*args, **kwargs)\n",
      " |      Overloaded function.\n",
      " |      \n",
      " |      1. Add(self: ngsolve.comp.LinearForm, integrator: ngsolve.fem.LFI) -> ngsolve.comp.LinearForm\n",
      " |      \n",
      " |      \n",
      " |      Add integrator to linear form.\n",
      " |      \n",
      " |      Parameters:\n",
      " |      \n",
      " |      integrator : ngsolve.fem.LFI\n",
      " |        input linear form integrator\n",
      " |      \n",
      " |      \n",
      " |      \n",
      " |      2. Add(self: object, arg0: ngsolve.comp.SumOfIntegrals) -> object\n",
      " |  \n",
      " |  Assemble(...)\n",
      " |      Assemble(self: ngsolve.comp.LinearForm) -> ngsolve.comp.LinearForm\n",
      " |      \n",
      " |      Assemble linear form\n",
      " |  \n",
      " |  __call__(...)\n",
      " |      __call__(self: ngsolve.comp.LinearForm, gf: ngsolve.comp.GridFunction) -> float\n",
      " |  \n",
      " |  __iadd__(...)\n",
      " |      __iadd__(*args, **kwargs)\n",
      " |      Overloaded function.\n",
      " |      \n",
      " |      1. __iadd__(self: ngsolve.comp.LinearForm, lfi: ngsolve.fem.LFI) -> ngsolve.comp.LinearForm\n",
      " |      \n",
      " |      2. __iadd__(self: ngsolve.comp.LinearForm, lfi: ngsolve.fem.PointEvaluationFunctional) -> ngsolve.comp.LinearForm\n",
      " |      \n",
      " |      3. __iadd__(self: ngsolve.comp.LinearForm, arg0: ngsolve.comp.SumOfIntegrals) -> ngsolve.comp.LinearForm\n",
      " |  \n",
      " |  __init__(...)\n",
      " |      __init__(*args, **kwargs)\n",
      " |      Overloaded function.\n",
      " |      \n",
      " |      1. __init__(self: ngsolve.comp.LinearForm, space: ngsolve.comp.FESpace, **kwargs) -> None\n",
      " |      \n",
      " |      2. __init__(self: ngsolve.comp.LinearForm, arg0: ngsolve.comp.SumOfIntegrals, **kwargs) -> None\n",
      " |  \n",
      " |  __str__(...)\n",
      " |      __str__(self: ngsolve.comp.LinearForm) -> str\n",
      " |  \n",
      " |  ----------------------------------------------------------------------\n",
      " |  Static methods defined here:\n",
      " |  \n",
      " |  __flags_doc__(...) from builtins.PyCapsule\n",
      " |      __flags_doc__() -> dict\n",
      " |  \n",
      " |  ----------------------------------------------------------------------\n",
      " |  Readonly properties defined here:\n",
      " |  \n",
      " |  components\n",
      " |      list of components for linearforms on compound-space\n",
      " |  \n",
      " |  integrators\n",
      " |      returns tuple of integrators of the linear form\n",
      " |  \n",
      " |  space\n",
      " |  \n",
      " |  vec\n",
      " |      vector of the assembled linear form\n",
      " |  \n",
      " |  ----------------------------------------------------------------------\n",
      " |  Readonly properties inherited from NGS_Object:\n",
      " |  \n",
      " |  __memory__\n",
      " |  \n",
      " |  ----------------------------------------------------------------------\n",
      " |  Data descriptors inherited from NGS_Object:\n",
      " |  \n",
      " |  name\n",
      " |  \n",
      " |  ----------------------------------------------------------------------\n",
      " |  Static methods inherited from pybind11_builtins.pybind11_object:\n",
      " |  \n",
      " |  __new__(*args, **kwargs) from pybind11_builtins.pybind11_type\n",
      " |      Create and return a new object.  See help(type) for accurate signature.\n",
      "\n",
      "compute Reduced Basis for snapshots  [ 1  2  3  4  5  6  7  8  9 10]\n",
      "finished computing Reduced Basis\n",
      "omega: 1, norm of solution: 4.751257782884014\n"
     ]
    },
    {
     "data": {
      "application/vnd.jupyter.widget-view+json": {
       "model_id": "b2fda5aec9c44870baf25a86b2cfa502",
       "version_major": 2,
       "version_minor": 0
      },
      "text/plain": [
       "NGSWebGuiWidget(value={'ngsolve_version': '6.2.2102-25-g95ccf2191', 'mesh_dim': 2, 'order2d': 2, 'order3d': 2,…"
      ]
     },
     "metadata": {},
     "output_type": "display_data"
    },
    {
     "data": {
      "application/vnd.jupyter.widget-view+json": {
       "model_id": "8ab5a5f2d7134ce6ad4bee6f4dc1d5ea",
       "version_major": 2,
       "version_minor": 0
      },
      "text/plain": [
       "interactive(children=(FloatSlider(value=1.0, description='x', max=10.0, min=1.0, step=0.05), Output()), _dom_c…"
      ]
     },
     "metadata": {},
     "output_type": "display_data"
    },
    {
     "data": {
      "text/plain": [
       "<function __main__.<lambda>(x)>"
      ]
     },
     "execution_count": 5,
     "metadata": {},
     "output_type": "execute_result"
    }
   ],
   "source": [
    "mesh = Mesh(unit_square.GenerateMesh(maxh=0.2))\n",
    "fes = H1(mesh, order=3 ,dirichlet=\"bottom|right\")\n",
    "u,v = fes.TnT()\n",
    "rhs = 100*exp(-20*((x-0.6)**2 + (y-0.3)**2))*v*dx\n",
    "# blf = ['grad(u)*grad(v)*dx', None, '-u*v *dx']\n",
    "blf = [grad(u)*grad(v)*dx, None, -u*v *dx]\n",
    "snapshots = np.arange(1,11, 1)\n",
    "\n",
    "space = ReducedBasis(fes, blf, rhs, snapshots)\n",
    "\n",
    "slider_func = lambda x: space.draw(x, redraw=True)\n",
    "space.draw(space.omega_min)\n",
    "\n",
    "interact(slider_func, x=widgets.FloatSlider(min=space.omega_min, max=space.omega_max, step=0.05, value=space.omega_min))"
   ]
  },
  {
   "cell_type": "markdown",
   "metadata": {},
   "source": [
    "<h3> Compute the residual </h3>\n",
    "\n",
    "Let $M, K, R \\in \\mathbb{C}^{nxn}$ and $F \\in \\mathbb{C}^{n}$ be the matrices (respectively the vector) be defined as\n",
    "\n",
    "\\begin{equation}\n",
    "\\begin{split}\n",
    "    M_{j,k} &= \\int_{\\Omega} \\nabla \\zeta_j \\nabla \\zeta_k \\text{dx} ~, \\\\\n",
    "    K_{j,k} &= -\\int_{\\Omega} \\zeta_j \\zeta_k \\text{dx} ~, \\\\\n",
    "    R_{j,k} &= -i\\int_{\\partial \\Omega} \\zeta_j \\zeta_k \\text{ds} ~ ,\\\\\n",
    "    F_j &= \\int_{\\Omega} f \\zeta_j \\text{dx} ~.\n",
    "\\end{split}\n",
    "\\end{equation}\n",
    "\n",
    " A solution of the reduced system can be written as $Vu = \\sum_{j = 1}^{N}u_j\\zeta_j \\in V_h$ with coefficient vector $u = (u_1, .., u_N)$. Therefore a norm of the residual can be defined as $|| (K+\\omega^2 M +\\omega R)Vu -F||$.\n",
    "\n",
    "\n",
    "By squaring and rearranging the therm above we get an expression for the residual\n",
    "\n",
    "\\begin{equation}\n",
    "\\begin{split}\n",
    "    \\text{res}(\\omega) :&= || (K+\\omega^2 M +\\omega R)Vu -F||_2^2 \\\\\n",
    "    &= || (K+\\omega^2 M +\\omega R)Vu||_2^2 - 2\\text{Re} \\langle (K+\\omega^2 M +\\omega R)Vu , F \\rangle + ||F||_2^2 \\\\\n",
    "    &= \\sum_{j = 1}^N \\sum_{k = 1}^N u_j \\overline{u_k}\\langle (K+\\omega^2 M +\\omega R)\\zeta_j, (K+\\omega^2 M +\\omega R)\\zeta_k \\rangle - 2\\text{Re}\\sum_{j = 1}^N u_j \\langle (K+\\omega^2 M +\\omega R)\\zeta_j, F \\rangle  + || F||^2 \\\\\n",
    "    & = \\overline{u^T}Au - 2\\text{Re} A_F u + || F||^2\n",
    "\\end{split} \n",
    "\\end{equation}\n",
    "where \n",
    "\\begin{equation}\n",
    "\\begin{split}\n",
    "    (A)_{jk} = ~ & \\langle K\\zeta_j, K\\zeta_k \\rangle + \\omega \\left(\\langle R\\zeta_j, K\\zeta_k \\rangle + \\langle K\\zeta_j, R\\zeta_k \\rangle \\right)\\\\\n",
    "    &+ \\omega^2 \\left(\\langle M\\zeta_j, K\\zeta_k \\rangle + \\langle K\\zeta_j, M\\zeta_k \\rangle + \\langle R\\zeta_j, R\\zeta_k \\rangle \\right) \\\\\n",
    "       & + \\omega^3 \\left(\\langle R\\zeta_j, M\\zeta_k \\rangle + \\langle M\\zeta_j, R\\zeta_k \\rangle\\right)+ \\omega^4 \\langle M\\zeta_j, M\\zeta_k \\rangle .\n",
    "\\end{split}\n",
    "\\end{equation}\n",
    "and \n",
    "\\begin{equation}\n",
    "    (A_F)_{j} = \\langle K\\zeta_j, F \\rangle + \\omega^2 \\langle M\\zeta_j, F \\rangle +\\omega \\langle R\\zeta_j, F \\rangle.\n",
    "\\end{equation}\n",
    "\n",
    "Now we can implement a function that build all the necessary matrices. "
   ]
  },
  {
   "cell_type": "markdown",
   "metadata": {},
   "source": [
    "We now want to plot the norms and residuals of the solutions for a large set of different omegas. Therefore we extend our class by a function that takes a vector of omegas and returns the corresponding values (norm and/or residual)."
   ]
  },
  {
   "cell_type": "code",
   "execution_count": 6,
   "metadata": {},
   "outputs": [],
   "source": [
    "class ReducedBasis(ReducedBasis):\n",
    "\n",
    "    def __computeResMat(self):\n",
    "\n",
    "        self.__update_res_mat = False\n",
    "        dim = (self.red[[*self.red][0]].h, self.red[[*self.red][0]].w)\n",
    "        tmp = MultiVector(self.__bv_tmp, dim[0])\n",
    "        \n",
    "        names = ['k', 'r', 'm']\n",
    "        keys = []\n",
    "        zeta = {}\n",
    "        with TaskManager():\n",
    "            for i in self.bfs.keys():\n",
    "                # set multivectors\n",
    "                zeta[names[i]] = MultiVector(self.__bv_tmp, dim[0])\n",
    "                tmp.data = self.bfs[i].mat * self.V\n",
    "                zeta[names[i]].data = self.proj * tmp\n",
    "                # set keys\n",
    "                for k in range(i, 3):\n",
    "                    if k in self.bfs.keys(): keys += [names[i]+names[k]]\n",
    "            \n",
    "            self.__res_mat = {} # available keys: 'kk', 'kr', 'km', 'rr', 'rm', 'mm'\n",
    "\n",
    "            # calculate scalar products\n",
    "            for key in keys:\n",
    "                self.__res_mat[key] = InnerProduct (zeta[key[0]], zeta[key[1]]).T\n",
    "                # calculate inner products with right hand side\n",
    "                if key[0] == key[1]:\n",
    "                    self.__res_mat['{}f'.format(key[0])] = Vector(dim[0], self.fes.is_complex)\n",
    "                    for j in range(dim[0]): \n",
    "                        self.__res_mat['{}f'.format(list(key)[0])][j] = InnerProduct (zeta[key[0]][j], self.f.vec.data)\n",
    "\n",
    "            # set other matrices to zero\n",
    "            for key in ['kk', 'kr', 'km', 'rr', 'rm', 'mm']:\n",
    "                if key not in keys:\n",
    "                    self.__res_mat[key] = Matrix(dim[0], dim[1], self.fes.is_complex)\n",
    "                    self.__res_mat[key][:] = 0\n",
    "\n",
    "            for i in range(3):\n",
    "                if i not in self.bfs.keys():\n",
    "                    self.__res_mat['{}f'.format(names[i])] = Vector(dim[0], self.fes.is_complex)\n",
    "                    self.__res_mat['{}f'.format(names[i])][:] = 0\n"
   ]
  },
  {
   "cell_type": "code",
   "execution_count": 7,
   "metadata": {},
   "outputs": [],
   "source": [
    "class ReducedBasis(ReducedBasis):\n",
    "    \n",
    "    def computeValues(self, param, residual=True, norm=True, cheap = True):\n",
    "        \n",
    "        if residual and norm: \n",
    "            if self.logging: print(\"compute residual and norm\")\n",
    "        elif residual: \n",
    "            if self.logging: print(\"compute residual\")\n",
    "        elif norm: \n",
    "            if self.logging: print(\"compute norm\")\n",
    "        else: return\n",
    "        \n",
    "        norm_ret = []\n",
    "        residual_ret = []\n",
    "        # needed only in this jupyter notebook\n",
    "        if self.__update_res_mat:\n",
    "            self.__computeResMat()\n",
    "        self.__update_res_mat = False\n",
    "\n",
    "        \n",
    "        with TaskManager():\n",
    "\n",
    "            for omega in param:\n",
    "                \n",
    "                # compute reduced solution\n",
    "                A = Matrix(len(self.__snapshots), len(self.__snapshots), self.fes.is_complex)\n",
    "                A[:] = 0\n",
    "                for key in self.red.keys():\n",
    "                    A += self.red[key]*omega**key\n",
    "                v = A.I * self.f_red\n",
    "                red_sol_vec = v[:,0]\n",
    "            \n",
    "                if norm:\n",
    "\n",
    "                    self.__gf_tmp.vec.data = self.V * red_sol_vec\n",
    "                    # imaginary part is not exactly 0 due to numerical errors\n",
    "                    nof = np.real(Integrate(self.__gf_tmp*Conj(self.__gf_tmp), self.fes.mesh))\n",
    "                    norm_ret += [nof]\n",
    "\n",
    "                if residual:   \n",
    "                    \n",
    "                    if cheap:\n",
    "                        \n",
    "                        if self.__update_res_mat: self.__computeResMat()\n",
    "                            \n",
    "                        A_F = self.__res_mat['kf']+self.__res_mat['mf']*omega**2+self.__res_mat['rf'] *omega\n",
    "                        \n",
    "                        # compute cheap residual for complex spaces \n",
    "                        if self.fes.is_complex:\n",
    "                            A = (self.__res_mat['kk']\n",
    "                                 + (self.__res_mat['kr']+self.__res_mat['kr'].H)*omega \n",
    "                                 + (self.__res_mat['km']+self.__res_mat['km'].H+self.__res_mat['rr'])*omega**2\n",
    "                                 + (self.__res_mat['rm']+self.__res_mat['rm'].H)*omega**3\n",
    "                                 + self.__res_mat['mm']*omega**4) \n",
    "                        else: # compute cheap residual for real spaces\n",
    "                            A = (self.__res_mat['kk']\n",
    "                                 + self.__res_mat['km']*2*omega**2\n",
    "                                 + self.__res_mat['mm']*omega**4 \n",
    "                                 + self.__res_mat['kr']*2*omega\n",
    "                                 + self.__res_mat['rm']*2*omega**3)\n",
    "                            \n",
    "                        res = (InnerProduct(red_sol_vec, A * red_sol_vec) \n",
    "                               - 2*np.real( InnerProduct(red_sol_vec, A_F, conjugate = False)) \n",
    "                               + InnerProduct(self.f.vec, self.f.vec))\n",
    "                        \n",
    "                        residual_ret += [abs(res)]\n",
    "\n",
    "                    else:\n",
    "                        \n",
    "                        if not norm: self.__gf_tmp.vec.data = self.V * red_sol_vec\n",
    "                        self.omega.Set(omega)\n",
    "                        self.a.Assemble()\n",
    "                        self.__bv_tmp.data = self.a.mat*self.__gf_tmp.vec - self.f.vec\n",
    "                        self.__bv_tmp2.data = self.proj*self.__bv_tmp\n",
    "                        res = Norm(self.__bv_tmp2)**2\n",
    "                    \n",
    "                        residual_ret += [res]\n",
    "                    \n",
    "                    \n",
    "        if self.logging: print(\"finished computing values\")\n",
    "        if norm and (not residual): return norm_ret\n",
    "        if residual and (not norm): return residual_ret\n",
    "        if norm and residual: return norm_ret, residual_ret\n",
    "    "
   ]
  },
  {
   "cell_type": "markdown",
   "metadata": {},
   "source": [
    "Again we define an instance of our now updated class. Afterwards we can plot norm and residuals for a set of random omegas. "
   ]
  },
  {
   "cell_type": "code",
   "execution_count": 8,
   "metadata": {
    "scrolled": false
   },
   "outputs": [
    {
     "name": "stdout",
     "output_type": "stream",
     "text": [
      "compute Reduced Basis for snapshots  [ 1  2  3  4  5  6  7  8  9 10]\n",
      "finished computing Reduced Basis\n",
      "compute residual and norm\n",
      "finished computing values\n"
     ]
    }
   ],
   "source": [
    "space1= ReducedBasis(fes, [grad(u)*grad(v)*dx, None, -u*v *dx], rhs, snapshots)\n",
    "\n",
    "random_omegas = np.sort(np.append(np.random.uniform(space.omega_min, space.omega_max, 1000), snapshots))\n",
    "norm_random_omegas, residual_random_omegas = space1.computeValues(random_omegas)"
   ]
  },
  {
   "cell_type": "code",
   "execution_count": 9,
   "metadata": {},
   "outputs": [
    {
     "name": "stdout",
     "output_type": "stream",
     "text": [
      "compute residual\n",
      "finished computing values\n"
     ]
    },
    {
     "data": {
      "text/plain": [
       "[]"
      ]
     },
     "execution_count": 9,
     "metadata": {},
     "output_type": "execute_result"
    },
    {
     "data": {
      "image/png": "[encoded data removed]",
      "text/plain": [
       "<Figure size 432x288 with 1 Axes>"
      ]
     },
     "metadata": {
      "needs_background": "light"
     },
     "output_type": "display_data"
    },
    {
     "data": {
      "image/png": "[encoded data removed]",
      "text/plain": [
       "<Figure size 432x288 with 1 Axes>"
      ]
     },
     "metadata": {
      "needs_background": "light"
     },
     "output_type": "display_data"
    }
   ],
   "source": [
    "%matplotlib inline\n",
    "import matplotlib.pyplot as plt\n",
    "\n",
    "fig, ax = plt.subplots()\n",
    "ax.plot(random_omegas, norm_random_omegas,  '-', label = \"norm\")\n",
    "ax.set_xlabel(\"omega\")\n",
    "ax.set_ylabel(\"norm of solution\")\n",
    "ax.set_title(\"norm of solution in reduced space\")\n",
    "plt.semilogy()\n",
    "\n",
    "fig, ax = plt.subplots()         \n",
    "ax.plot(random_omegas, residual_random_omegas , '-')\n",
    "residual = space1.computeValues(space1.getSnapshots(), norm = False)\n",
    "ax.plot(space1.getSnapshots(), residual, 'r.', label = \"snapshot parameters\")\n",
    "ax.legend()\n",
    "ax.set_xlabel(\"omega\")\n",
    "ax.set_ylabel('residual of solution')\n",
    "ax.set_title(\"residual in reduced space\")\n",
    "plt.semilogy()"
   ]
  },
  {
   "cell_type": "markdown",
   "metadata": {},
   "source": [
    "Let $M \\in \\mathbb{R}^{N\\times N}$ and $K \\in \\mathbb{R}^{N\\times N}$ be the corresponding matrices for problem $(1)$ in the reduced space. We choose our `space` to be real valued, so the Eigenvalues $\\lambda $ of\n",
    "\\begin{equation}\n",
    "    \\lambda Mx = -Kx.\n",
    "\\end{equation}\n",
    "are real valued and positive. Therefore we can easily compute them und compare $\\sqrt{\\lambda}$ to the positions of the peaks visible in the plot of the norm. We see that they align as expected."
   ]
  },
  {
   "cell_type": "code",
   "execution_count": 10,
   "metadata": {},
   "outputs": [
    {
     "data": {
      "text/plain": [
       "[]"
      ]
     },
     "execution_count": 10,
     "metadata": {},
     "output_type": "execute_result"
    },
    {
     "data": {
      "image/png": "[encoded data removed]",
      "text/plain": [
       "<Figure size 432x288 with 1 Axes>"
      ]
     },
     "metadata": {
      "needs_background": "light"
     },
     "output_type": "display_data"
    }
   ],
   "source": [
    "eig = np.sqrt(scipy.linalg.eigh(space1.red[0],-space1.red[2], eigvals_only=True))\n",
    "eig = eig[eig <= space1.omega_max]\n",
    "\n",
    "fig, ax = plt.subplots()\n",
    "ax.plot(random_omegas, norm_random_omegas,  '-', label = \"norm\")\n",
    "ax.plot(eig, 1/2*np.ones(len(eig)), 'r.', label= \"eigenvalues\")\n",
    "ax.legend()\n",
    "\n",
    "ax.set_xlabel(\"omega\")\n",
    "ax.set_ylabel(\"norm of solution\")\n",
    "ax.set_title(\"norm of solution in reduced space\")\n",
    "plt.semilogy()\n"
   ]
  },
  {
   "cell_type": "markdown",
   "metadata": {},
   "source": [
    "Now we define a space with Robin boundaries and plot norm and residual."
   ]
  },
  {
   "cell_type": "code",
   "execution_count": 11,
   "metadata": {},
   "outputs": [
    {
     "name": "stdout",
     "output_type": "stream",
     "text": [
      "compute Reduced Basis for snapshots  [ 1  2  3  4  5  6  7  8  9 10]\n",
      "finished computing Reduced Basis\n",
      "omega: 1, norm of solution: 2.7968961509500616\n"
     ]
    },
    {
     "data": {
      "application/vnd.jupyter.widget-view+json": {
       "model_id": "c9c94bd4a0184fe78eadb141da04b446",
       "version_major": 2,
       "version_minor": 0
      },
      "text/plain": [
       "NGSWebGuiWidget(value={'ngsolve_version': '6.2.2102-25-g95ccf2191', 'mesh_dim': 2, 'order2d': 2, 'order3d': 2,…"
      ]
     },
     "metadata": {},
     "output_type": "display_data"
    },
    {
     "data": {
      "application/vnd.jupyter.widget-view+json": {
       "model_id": "3b6a69816f1e4c78a2e1ac44d9ebba4e",
       "version_major": 2,
       "version_minor": 0
      },
      "text/plain": [
       "interactive(children=(FloatSlider(value=1.0, description='x', max=10.0, min=1.0, step=0.05), Output()), _dom_c…"
      ]
     },
     "metadata": {},
     "output_type": "display_data"
    },
    {
     "data": {
      "text/plain": [
       "<function __main__.<lambda>(x)>"
      ]
     },
     "execution_count": 11,
     "metadata": {},
     "output_type": "execute_result"
    }
   ],
   "source": [
    "mesh = Mesh(unit_square.GenerateMesh(maxh=0.2))\n",
    "cfes = H1(mesh, order=3, dirichlet=\"bottom|right\", complex=True)\n",
    "cu,cv = cfes.TnT()\n",
    "x_0 = 0.6\n",
    "y_0 = 0.3\n",
    "rhs = 100*exp(-20*((x-x_0)**2 + (y-y_0)**2)) *cv*dx\n",
    "\n",
    "csnapshots = np.arange(1,11, 1)\n",
    "cspace = ReducedBasis(cfes, [grad(cu)*grad(cv)*dx, -1j*cu*cv*ds, -cu*cv *dx], rhs, csnapshots)\n",
    "\n",
    "slider_func = lambda x: cspace.draw(x, redraw=True)\n",
    "cspace.draw(cspace.omega_min)\n",
    "\n",
    "interact(slider_func, x=widgets.FloatSlider(min=cspace.omega_min, max=cspace.omega_max, step=0.05, value=cspace.omega_min))"
   ]
  },
  {
   "cell_type": "code",
   "execution_count": 12,
   "metadata": {},
   "outputs": [
    {
     "name": "stdout",
     "output_type": "stream",
     "text": [
      "compute residual and norm\n",
      "finished computing values\n",
      "compute residual\n",
      "finished computing values\n"
     ]
    },
    {
     "data": {
      "text/plain": [
       "[]"
      ]
     },
     "execution_count": 12,
     "metadata": {},
     "output_type": "execute_result"
    },
    {
     "data": {
      "image/png": "[encoded data removed]",
      "text/plain": [
       "<Figure size 432x288 with 1 Axes>"
      ]
     },
     "metadata": {
      "needs_background": "light"
     },
     "output_type": "display_data"
    },
    {
     "data": {
      "image/png": "[encoded data removed]",
      "text/plain": [
       "<Figure size 432x288 with 1 Axes>"
      ]
     },
     "metadata": {
      "needs_background": "light"
     },
     "output_type": "display_data"
    }
   ],
   "source": [
    "%matplotlib inline\n",
    "\n",
    "crandom_omegas = np.sort(np.append(np.random.uniform(cspace.omega_min, cspace.omega_max, 1000), csnapshots))\n",
    "\n",
    "cnorm_random_omegas, cresidual_random_omegas = cspace.computeValues(crandom_omegas)\n",
    "\n",
    "fig, ax = plt.subplots()\n",
    "ax.plot(crandom_omegas, cnorm_random_omegas,  '-', label = \"norm\")\n",
    "ax.set_xlabel(\"omega\")\n",
    "ax.set_ylabel(\"norm of solution\")\n",
    "ax.set_title(\"norm of solution in reduced space\")\n",
    "plt.semilogy()\n",
    "\n",
    "fig, ax = plt.subplots()         \n",
    "ax.plot(crandom_omegas, cresidual_random_omegas , '-')\n",
    "residual = cspace.computeValues(cspace.getSnapshots(), norm = False)\n",
    "ax.plot(cspace.getSnapshots(), residual, 'r.', label = \"snapshot parameters\")\n",
    "ax.legend()\n",
    "ax.set_xlabel(\"omega\")\n",
    "ax.set_ylabel('residual of solution')\n",
    "\n",
    "ax.set_title(\"residual in reduced space\")\n",
    "plt.semilogy()"
   ]
  }
 ],
 "metadata": {
  "kernelspec": {
   "display_name": "Python 3",
   "language": "python",
   "name": "python3"
  },
  "language_info": {
   "codemirror_mode": {
    "name": "ipython",
    "version": 3
   },
   "file_extension": ".py",
   "mimetype": "text/x-python",
   "name": "python",
   "nbconvert_exporter": "python",
   "pygments_lexer": "ipython3",
   "version": "3.8.5"
  }
 },
 "nbformat": 4,
 "nbformat_minor": 2
}
