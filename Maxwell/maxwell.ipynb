{
 "cells": [
  {
   "cell_type": "code",
   "execution_count": 2,
   "metadata": {},
   "outputs": [],
   "source": [
    "from __future__ import print_function\n",
    "from ipywidgets import interact, interactive, fixed, interact_manual\n",
    "import ipywidgets as widgets\n",
    "\n",
    "from netgen.csg import *\n",
    "from ngsolve import *\n",
    "from ngsolve.webgui import Draw"
   ]
  },
  {
   "cell_type": "markdown",
   "metadata": {},
   "source": [
    "### Permanentmagnet\n",
    "$$\n",
    "\\DeclareMathOperator{\\Grad}{grad}\n",
    "\\DeclareMathOperator{\\Curl}{curl}\n",
    "\\DeclareMathOperator{\\Div}{div}\n",
    "\\DeclareMathOperator{\\R}{\\mathbb{R}}\n",
    "\\DeclareMathOperator{\\real}{real}\n",
    "$$\n",
    "Finde $ u \\in H(\\Curl)$ sodass \n",
    "$$\n",
    "\\int \\mu^{-1} \\Curl u \\Curl v + 10^{-8} \\int  u  v= \\int M \\Curl v \\qquad  \\forall \\, v \\in H(\\Curl) \\tag{1}\n",
    "$$\n",
    "\n",
    "\n",
    "Wobei der zweite Integralterm der Stabilität dient und die Werte für $\\mu_r$ wie folgt angenommen werden:\n",
    "* magnet: $\\mu_r = 1$\n",
    "* copper plate: $\\mu_r = 1-6.4\\cdot10^{-6}$\n",
    "* iron plate: $\\mu_r = 1000$\n",
    "* air: $\\mu_r = 1$ \n"
   ]
  },
  {
   "cell_type": "code",
   "execution_count": 3,
   "metadata": {
    "scrolled": false
   },
   "outputs": [
    {
     "data": {
      "application/vnd.jupyter.widget-view+json": {
       "model_id": "23cb2512a6fb40d692edca0d05bb085e",
       "version_major": 2,
       "version_minor": 0
      },
      "text/plain": [
       "NGSWebGuiWidget(value={'ngsolve_version': '6.2.2007-128-gc46d6894b', 'mesh_dim': 3, 'order2d': 2, 'order3d': 2…"
      ]
     },
     "metadata": {},
     "output_type": "display_data"
    },
    {
     "data": {
      "text/plain": []
     },
     "execution_count": 3,
     "metadata": {},
     "output_type": "execute_result"
    }
   ],
   "source": [
    "geo = CSGeometry()\n",
    "box_size = 4\n",
    "box = OrthoBrick(Pnt(-box_size,-box_size,-box_size), Pnt(box_size,box_size,box_size)).bc(\"outer\")\n",
    "magnet = Cylinder(Pnt(0.05,0,0), Pnt(0.05,0,1), 0.3) * \\\n",
    "            OrthoBrick (Pnt(-1,-1,-1),Pnt(1,1,1)).mat(\"magnet\")\n",
    "\n",
    "plate = OrthoBrick (Pnt(-1, 1,-1.5),Pnt(1,1.2,1.5)).mat('copper').maxh(0.1)\n",
    "\n",
    "air = (box - magnet - plate).mat('air') \n",
    "\n",
    "geo.Add(plate)#, col=(0,1,0)) # what is col?\n",
    "geo.Add(magnet)\n",
    "geo.Add(air)#, transparent=True)\n",
    "\n",
    "mesh = Mesh(geo.GenerateMesh(maxh=0.5))\n",
    "mesh.Curve(5)\n",
    "Draw (mesh)\n",
    "# help (geo)\n",
    "# help(box)"
   ]
  },
  {
   "cell_type": "code",
   "execution_count": 10,
   "metadata": {
    "scrolled": false
   },
   "outputs": [
    {
     "name": "stdout",
     "output_type": "stream",
     "text": [
      "iteration 0 error = 0.13567282543016937\n",
      "iteration 1 error = 0.05473322722844279\n",
      "iteration 2 error = 0.04438502193241739\n",
      "iteration 3 error = 0.027011161170893104\n",
      "iteration 4 error = 0.0257904700230619\n",
      "iteration 5 error = 0.017863894939035896\n",
      "iteration 6 error = 0.012876952609546239\n",
      "iteration 7 error = 0.007108495240556475\n",
      "iteration 8 error = 0.004363922338849532\n",
      "iteration 9 error = 0.0027391175599099675\n",
      "iteration 10 error = 0.0018865738552317041\n",
      "iteration 11 error = 0.0013196573532276775\n",
      "iteration 12 error = 0.0009264697631952405\n",
      "iteration 13 error = 0.0006107677934272514\n",
      "iteration 14 error = 0.00044131375854792806\n",
      "iteration 15 error = 0.00030263062301543733\n",
      "iteration 16 error = 0.00018608232376703717\n",
      "iteration 17 error = 0.00012186644261898285\n",
      "iteration 18 error = 8.404812877390286e-05\n",
      "iteration 19 error = 5.851398774773702e-05\n",
      "iteration 20 error = 4.072693408649215e-05\n",
      "iteration 21 error = 2.7305117975917054e-05\n",
      "iteration 22 error = 1.8433532239517095e-05\n",
      "iteration 23 error = 1.2943070294445855e-05\n",
      "iteration 24 error = 8.42665905173882e-06\n",
      "iteration 25 error = 5.715332225156936e-06\n",
      "iteration 26 error = 3.9705574925258975e-06\n",
      "iteration 27 error = 2.5773393547047027e-06\n",
      "iteration 28 error = 1.7100363749880783e-06\n",
      "iteration 29 error = 1.1275826421411681e-06\n",
      "iteration 30 error = 7.776337093756217e-07\n",
      "iteration 31 error = 5.215878391530785e-07\n",
      "iteration 32 error = 3.347642742451178e-07\n",
      "iteration 33 error = 2.254676443992363e-07\n",
      "iteration 34 error = 1.46986703518131e-07\n",
      "iteration 35 error = 9.84216948320798e-08\n",
      "iteration 36 error = 6.469511789552765e-08\n",
      "iteration 37 error = 4.2796301941656925e-08\n",
      "iteration 38 error = 2.756374402081215e-08\n",
      "iteration 39 error = 1.723517107822315e-08\n",
      "iteration 40 error = 1.124098366919674e-08\n",
      "iteration 41 error = 7.304775634477409e-09\n",
      "iteration 42 error = 4.755092154455297e-09\n",
      "iteration 43 error = 3.031581681066608e-09\n",
      "iteration 44 error = 2.0031501384045864e-09\n",
      "iteration 45 error = 1.3277818783188725e-09\n",
      "iteration 46 error = 8.979002077785741e-10\n",
      "iteration 47 error = 5.7620914772525e-10\n",
      "iteration 48 error = 3.6906723191166383e-10\n",
      "iteration 49 error = 2.333279101374122e-10\n",
      "iteration 50 error = 1.547491759877574e-10\n",
      "iteration 51 error = 1.0565881835783283e-10\n",
      "iteration 52 error = 6.782397125999343e-11\n",
      "iteration 53 error = 4.42025258156614e-11\n",
      "iteration 54 error = 2.7993578353715186e-11\n",
      "iteration 55 error = 1.8712928042026274e-11\n",
      "iteration 56 error = 1.2356112440505175e-11\n",
      "iteration 57 error = 9.011707928127485e-12\n",
      "iteration 58 error = 6.541861721493674e-12\n",
      "iteration 59 error = 3.941499095483585e-12\n",
      "iteration 60 error = 2.556341278231949e-12\n",
      "iteration 61 error = 1.631723085353867e-12\n",
      "iteration 62 error = 1.0504181256843336e-12\n",
      "iteration 63 error = 7.137968199954957e-13\n",
      "iteration 64 error = 5.096565346412851e-13\n",
      "iteration 65 error = 3.701576435819593e-13\n",
      "iteration 66 error = 2.2534896327312072e-13\n",
      "iteration 67 error = 1.455493580103549e-13\n",
      "iteration 68 error = 9.156566195517196e-14\n"
     ]
    }
   ],
   "source": [
    "fes = HCurl(mesh, order = 3, dirichlet=\"outer\", nograds=True)\n",
    "u,v = fes.TnT()\n",
    "from math import pi\n",
    "mu0 = 4*pi*1e-7\n",
    "mur = CoefficientFunction( [1 if mat== \"magnet\" else 1-6.4*1e-7 if mat=='copper' else 1000 if mat == 'iron' else 1\n",
    "                            for mat in mesh.GetMaterials()]) \n",
    "a = BilinearForm(fes)\n",
    "a += 1/(mu0*mur)*curl(u)*curl(v)*dx + 1e-6/(mu0*mur)*u*v*dx\n",
    "c = Preconditioner(a, \"bddc\")\n",
    "\n",
    "f = LinearForm(fes)\n",
    "mag = CoefficientFunction((0,0,1)) * \\\n",
    "    CoefficientFunction([100 if mat == \"magnet\" else 0 for mat in mesh.GetMaterials()])\n",
    "f += mag*curl(v)*dx(mesh.Materials(\"magnet\"))\n",
    "\n",
    "gfu = GridFunction(fes)\n",
    "\n",
    "with TaskManager():\n",
    "    a.Assemble()\n",
    "    f.Assemble()\n",
    "    solvers.CG(sol=gfu.vec, rhs=f.vec, mat=a.mat, pre=c.mat)\n",
    "\n",
    "# help(c)\n",
    "# help(fes)"
   ]
  },
  {
   "cell_type": "code",
   "execution_count": 4,
   "metadata": {
    "scrolled": false
   },
   "outputs": [
    {
     "data": {
      "application/vnd.jupyter.widget-view+json": {
       "model_id": "1228b88706544ebe90d3ffcb51a82236",
       "version_major": 2,
       "version_minor": 0
      },
      "text/plain": [
       "NGSWebGuiWidget(value={'ngsolve_version': '6.2.2007-128-gc46d6894b', 'mesh_dim': 3, 'order2d': 2, 'order3d': 2…"
      ]
     },
     "metadata": {},
     "output_type": "display_data"
    },
    {
     "data": {
      "text/plain": []
     },
     "execution_count": 4,
     "metadata": {},
     "output_type": "execute_result"
    }
   ],
   "source": [
    "## magnetic flux\n",
    "Draw (curl(gfu), mesh, \"B-field\", draw_surf=False)"
   ]
  },
  {
   "cell_type": "code",
   "execution_count": 5,
   "metadata": {},
   "outputs": [
    {
     "data": {
      "application/vnd.jupyter.widget-view+json": {
       "model_id": "ddc81b813274453fa4e06a8c7337e76b",
       "version_major": 2,
       "version_minor": 0
      },
      "text/plain": [
       "NGSWebGuiWidget(value={'ngsolve_version': '6.2.2007-128-gc46d6894b', 'mesh_dim': 3, 'order2d': 2, 'order3d': 2…"
      ]
     },
     "metadata": {},
     "output_type": "display_data"
    },
    {
     "data": {
      "text/plain": []
     },
     "execution_count": 5,
     "metadata": {},
     "output_type": "execute_result"
    }
   ],
   "source": [
    "Draw (gfu, mesh, \"vector-potential\", draw_surf = False)"
   ]
  },
  {
   "cell_type": "code",
   "execution_count": 11,
   "metadata": {},
   "outputs": [
    {
     "data": {
      "application/vnd.jupyter.widget-view+json": {
       "model_id": "5ec09d0c7a734993b8f77766f7c2b26d",
       "version_major": 2,
       "version_minor": 0
      },
      "text/plain": [
       "NGSWebGuiWidget(value={'ngsolve_version': '6.2.2007-128-gc46d6894b', 'mesh_dim': 3, 'order2d': 2, 'order3d': 2…"
      ]
     },
     "metadata": {},
     "output_type": "display_data"
    },
    {
     "data": {
      "text/plain": []
     },
     "execution_count": 11,
     "metadata": {},
     "output_type": "execute_result"
    }
   ],
   "source": [
    "## magnetic field\n",
    "Draw (1/(mu0*mur)*curl(gfu), mesh, \"H-field\", draw_surf=False)"
   ]
  },
  {
   "cell_type": "markdown",
   "metadata": {},
   "source": [
    "### Harmonische Magnetisierung\n",
    "\n",
    "Wird noch durch mit Spule umwickeltem Eisenkern ersetzt, hier mal die einfachere Schummelvariante zum Ausprobieren. \n",
    "\n",
    "\n",
    "Finde $ u \\in H(\\Curl)$ sodass \n",
    "$$\n",
    "\\int_{\\Omega} \\mu^{-1} \\Curl u \\Curl v + i\\omega\\sigma \\int_{\\Omega\\setminus\\text{magnet}}  u  v  + \\text{reg}\\int_{\\text{magnet}} u v = \\int_{\\Omega} M \\Curl v \\qquad  \\forall \\, v \\in H(\\Curl) \\tag{2}\n",
    "$$\n",
    "\n",
    "mit den Werten\n",
    "* magnet: $\\mu_r = 1, \\sigma = 0$ \n",
    "* copper plate: $\\mu_r = 1-6.4\\cdot10^{-6}, \\sigma = 58 \\cdot 10^8$\n",
    "* air: $\\mu_r = 1, \\sigma = 10^{-5}$ "
   ]
  },
  {
   "cell_type": "code",
   "execution_count": 6,
   "metadata": {},
   "outputs": [
    {
     "name": "stdout",
     "output_type": "stream",
     "text": [
      "iteration 0 error = 0.13556131064627025\n",
      "iteration 1 error = 0.054692369259469326\n",
      "iteration 2 error = 0.044383183794187576\n",
      "iteration 3 error = 0.02994433264261015\n",
      "iteration 4 error = 0.041193223997615235\n",
      "iteration 5 error = 0.0383559395910652\n",
      "iteration 6 error = 0.023720522145325423\n",
      "iteration 7 error = 0.02516850231592143\n",
      "iteration 8 error = 0.015260576695808473\n",
      "iteration 9 error = 0.014610352281020502\n",
      "iteration 10 error = 0.010237179184604114\n",
      "iteration 11 error = 0.007673098592359207\n",
      "iteration 12 error = 0.00639783537450731\n",
      "iteration 13 error = 0.00484225694385623\n",
      "iteration 14 error = 0.003525633417056888\n",
      "iteration 15 error = 0.00282730922461315\n",
      "iteration 16 error = 0.0022859717495004057\n",
      "iteration 17 error = 0.0017364095213312596\n",
      "iteration 18 error = 0.0016562321845170309\n",
      "iteration 19 error = 0.0014770968994471945\n",
      "iteration 20 error = 0.000934919887882861\n",
      "iteration 21 error = 0.0008046307718560777\n",
      "iteration 22 error = 0.00042064721044990437\n",
      "iteration 23 error = 0.0004720449249512781\n",
      "iteration 24 error = 0.0004260639564805527\n",
      "iteration 25 error = 0.00032857248166402145\n",
      "iteration 26 error = 0.0002444417390531496\n",
      "iteration 27 error = 0.00019719537946050043\n",
      "iteration 28 error = 0.00014032637067158476\n",
      "iteration 29 error = 0.00013279170496249015\n",
      "iteration 30 error = 9.104103333632944e-05\n",
      "iteration 31 error = 7.564144598004652e-05\n",
      "iteration 32 error = 0.00010679933449695193\n",
      "iteration 33 error = 4.606586030111403e-05\n",
      "iteration 34 error = 4.480486301357745e-05\n",
      "iteration 35 error = 2.611410854145297e-05\n",
      "iteration 36 error = 2.7420226165567087e-05\n",
      "iteration 37 error = 2.3044237023264133e-05\n",
      "iteration 38 error = 1.3030085026634519e-05\n",
      "iteration 39 error = 6.836904171978809e-06\n",
      "iteration 40 error = 9.882425896507083e-06\n",
      "iteration 41 error = 6.8691569271130174e-06\n",
      "iteration 42 error = 9.785257058747967e-06\n",
      "iteration 43 error = 4.5993155257639e-06\n",
      "iteration 44 error = 3.6961671516214387e-06\n",
      "iteration 45 error = 3.901773024305546e-06\n",
      "iteration 46 error = 2.855311881345878e-06\n",
      "iteration 47 error = 1.5374322656070894e-06\n",
      "iteration 48 error = 1.946182863833786e-06\n",
      "iteration 49 error = 1.1457330116896903e-06\n",
      "iteration 50 error = 7.736021052912975e-07\n",
      "iteration 51 error = 1.0753479838548161e-06\n",
      "iteration 52 error = 4.942843683198979e-07\n",
      "iteration 53 error = 6.25523821293596e-07\n",
      "iteration 54 error = 4.810052332322169e-07\n",
      "iteration 55 error = 2.150082012165896e-07\n",
      "iteration 56 error = 1.7142271499825033e-07\n",
      "iteration 57 error = 8.43932936812624e-08\n",
      "iteration 58 error = 9.486602473071401e-08\n",
      "iteration 59 error = 7.190430179752207e-08\n",
      "iteration 60 error = 4.897426427659576e-08\n",
      "iteration 61 error = 5.113016726764061e-07\n",
      "iteration 62 error = 3.6841795781771445e-08\n",
      "iteration 63 error = 2.7287943958714282e-08\n",
      "iteration 64 error = 5.608671693431489e-08\n",
      "iteration 65 error = 2.3458583180583693e-08\n",
      "iteration 66 error = 3.2387941935961636e-08\n",
      "iteration 67 error = 1.042725347592627e-08\n",
      "iteration 68 error = 1.3615135857222947e-08\n",
      "iteration 69 error = 2.086054254338012e-08\n",
      "iteration 70 error = 1.0684670459653578e-08\n",
      "iteration 71 error = 8.216282293887337e-09\n",
      "iteration 72 error = 6.114824630633892e-09\n",
      "iteration 73 error = 5.158230468258404e-09\n",
      "iteration 74 error = 4.309719105806505e-09\n",
      "iteration 75 error = 5.5784710498608666e-09\n",
      "iteration 76 error = 2.4382554175696806e-09\n",
      "iteration 77 error = 2.729510705205811e-09\n",
      "iteration 78 error = 1.4784749204062176e-09\n",
      "iteration 79 error = 1.979678459071412e-09\n",
      "iteration 80 error = 7.419891446574105e-10\n"
     ]
    }
   ],
   "source": [
    "fes = HCurl(mesh, order = 3, dirichlet=\"outer\", complex= True)\n",
    "u,v = fes.TnT()\n",
    "from math import pi\n",
    "mu0 = 4*pi*1e-7\n",
    "mur = CoefficientFunction( [1 if mat== \"magnet\" else 1-6.4*1e-7 if mat=='copper' else  1\n",
    "                            for mat in mesh.GetMaterials()]) \n",
    "\n",
    "sigma = CoefficientFunction( [0 if mat== \"magnet\" else 58*1e8 if mat=='copper' else 1e-5\n",
    "                            for mat in mesh.GetMaterials()]) \n",
    "omega = Parameter(100)\n",
    "a = BilinearForm(fes)\n",
    "a += 1/(mu0*mur)*curl(u)*curl(v)*dx + 1e-6/(mu0*mur)*u*v*dx ('magnet') + 1j*omega*sigma*u*v*dx\n",
    "c = Preconditioner(a, \"bddc\")\n",
    "\n",
    "f = LinearForm(fes)\n",
    "mag = CoefficientFunction((0,0,1)) * \\\n",
    "    CoefficientFunction( [100 if mat == \"magnet\" else 0 for mat in mesh.GetMaterials()])\n",
    "f += mag*curl(v)*dx(mesh.Materials(\"magnet\"))\n",
    "\n",
    "gfu = GridFunction(fes)\n",
    "\n",
    "with TaskManager():\n",
    "    a.Assemble()\n",
    "    f.Assemble()\n",
    "    solvers.CG(sol=gfu.vec, rhs=f.vec, mat=a.mat, pre=c.mat, tol= 1e-8)"
   ]
  },
  {
   "cell_type": "code",
   "execution_count": 5,
   "metadata": {},
   "outputs": [
    {
     "data": {
      "application/vnd.jupyter.widget-view+json": {
       "model_id": "d83e08be8fb24ffabd2adab716d5d294",
       "version_major": 2,
       "version_minor": 0
      },
      "text/plain": [
       "NGSWebGuiWidget(value={'ngsolve_version': '6.2.2007-128-gc46d6894b', 'mesh_dim': 3, 'order2d': 2, 'order3d': 2…"
      ]
     },
     "metadata": {},
     "output_type": "display_data"
    },
    {
     "data": {
      "text/plain": []
     },
     "execution_count": 5,
     "metadata": {},
     "output_type": "execute_result"
    }
   ],
   "source": [
    "# drawu = GridFunction(fes)\n",
    "## need equivalent to\n",
    "# drawu.vec.data = (-1j*omega*exp(1j*omega*1)*gfu).data\n",
    "# scene = Draw (drawu.real, mesh, \"E-field\", draw_surf=False)\n",
    "# def slider_func(t): \n",
    "    ## need equivalent to\n",
    "#     drawu.vec.data = (-1j*omega*exp(1j*omega*t)*gfu).data\n",
    "#     scene.Redraw()\n",
    "# interact(slider_func, x=widgets.FloatSlider(min=1, max=100, step=0.05, value=1))\n",
    "\n",
    "t = 1\n",
    "Draw ((-1j*omega*exp(1j*omega*t)*gfu).real, mesh, \"E-field\", draw_surf=False)\n"
   ]
  },
  {
   "cell_type": "code",
   "execution_count": 9,
   "metadata": {},
   "outputs": [
    {
     "data": {
      "application/vnd.jupyter.widget-view+json": {
       "model_id": "db6e910c01a24b6da30f02ff6cca22d9",
       "version_major": 2,
       "version_minor": 0
      },
      "text/plain": [
       "NGSWebGuiWidget(value={'ngsolve_version': '6.2.2007-128-gc46d6894b', 'mesh_dim': 3, 'order2d': 2, 'order3d': 2…"
      ]
     },
     "metadata": {},
     "output_type": "display_data"
    },
    {
     "data": {
      "text/plain": []
     },
     "execution_count": 9,
     "metadata": {},
     "output_type": "execute_result"
    }
   ],
   "source": [
    "t = 1\n",
    "Draw (sigma*(-1j*omega*exp(1j*omega*t)*gfu).real, mesh, \"j\", draw_surf=False)\n",
    "## to see: clipping (0,1,0,-1)"
   ]
  },
  {
   "cell_type": "markdown",
   "metadata": {},
   "source": [
    "## Notizen für mich\n",
    "nützliche links:\n",
    "\n",
    "* http://www.numa.uni-linz.ac.at/Teaching/PhD/Finished/zaglmayr \n",
    "* https://de.wikipedia.org/wiki/Maxwell-Gleichungen\n",
    "* https://ngsolve.org/docu/latest/i-tutorials/wta/maxwell.html\n",
    "* https://ngsolve.org/docu/latest/i-tutorials/unit-2.3-hcurlhdiv/hcurlhdiv.html\n",
    "* https://ngsolve.org/docu/latest/i-tutorials/unit-2.4-Maxwell/Maxwell.html\n",
    "* https://www.asc.tuwien.ac.at/~schoeberl/wiki/lva/notes/maxwell.pdf\n",
    "* https://www.numa.uni-linz.ac.at/Teaching/Bachelor/kagerer-bakk.pdf\n",
    "* \"allwissender Kreis\" \n",
    "\n",
    "### Fragen\n",
    "\n",
    "* Ist es möglich die äußere Box unsichtbar zu machen?\n",
    "* Was ist `col` bei geo.Add(..)\n",
    "* Was bringt `nograds` (lt Help 'Remove higher order gradients of H1 basis functions from HCurl FESpace')?\n",
    "* slider function Problem\n",
    "* Wie gehe ich mit leitenden Materialien um (Permittivität)? \n",
    "* mehr clipping planes? \n",
    "* impressed current density?\n",
    "\n",
    "### Basics\n",
    "\n",
    "#### Physikalische Größen\n",
    "\n",
    "$E$ .. Elektrische Feldstärke (Stärke und Richtung eines elektrischen Feldes) \\\n",
    "$D$ .. Elektrische Flussdichte (Dichte der elektrischen Feldlinien in Bezug auf eine Fläche) \\\n",
    "$H$ .. Magnetische Felstärke \\\n",
    "$B$ .. Magnetische Flussdichte \\\n",
    "$M$ .. Magnetisierung \\\n",
    "$\\rho$ .. Ladungsdichte (Ladung pro Volumen) \\\n",
    "$\\sigma$ .. elektrische Leitfähigkeit \\\n",
    "$j$ .. Stromdichte (Strom pro durchflossene Fläche) \n",
    "\n",
    "\n",
    "#### Makroskopische Maxwelllgleichungen\n",
    "(M1) $\\Div D = \\rho$ (Ladung ist Quelle des elektrischen Feldes) \\\n",
    "(M2) $\\Div B = 0$ (keine magnetischen Ladungen) \\\n",
    "(M3) $\\Curl E = -\\partial_t B$ (Induktion)  \\\n",
    "(M4) $\\Curl H = j + \\partial_t D$ (Amper'sches Gesetz mit Verschiebungsstrom)\n",
    "\n",
    "#### sonstige Zusammenhänge\n",
    "\n",
    "(S1) $D = \\epsilon E $ (evtl noch $+ P$ .. Polarisation, was ist das?) wobei $\\epsilon = \\epsilon_0 \\epsilon_r$ (Permittivität),  $\\epsilon_0 = 10^{-7} \\cdot 8.8541878128$\\\n",
    "(S2) $H = \\mu^{-1} B - M$ wobei $\\mu = \\mu_0 \\mu_r$ (magnetische Permeabilität wenn im linearen Bereich), $\\mu_0 =  4\\pi10^{-7}$ \\\n",
    "(S3) $j = \\sigma E +j_i$ ($j_i$ .. 'impressed current density', was ist das genau?)\n",
    "\n",
    "\n",
    "#### Herleitung einer schwachen Formulierung\n",
    "Einführen eines Vektorpotentials $A$ sodass $B = \\Curl A$. \n",
    "\n",
    "Umformen:\n",
    "$$\n",
    "\\begin{split}\n",
    "\\Curl(\\mu^{-1} \\Curl(A) - M) &= \\Curl(\\mu^{-1} B - M) \\\\\n",
    "&\\stackrel{\\text{(S2)}}{=} \\Curl(H) \\\\\n",
    "&\\stackrel{\\text{(M4)}}{=} j + \\partial_t D \\\\\n",
    "&\\stackrel{\\text{(S1)}}{=} j + \\partial_t \\epsilon E  \\\\\n",
    "&\\stackrel{\\text{(S3)}}{=} \\sigma E + j_i + \\partial_t \\epsilon E \n",
    "\\end{split}\n",
    "$$\n",
    "\n",
    "\n",
    "Ziel ist $A$ so zu wählen, dass $E = -\\partial_t A$. Einzige Bedingung an $A$ war, dass $\\Curl A = B$, dh jedes $\\tilde{A}$ das sich von $A$ nur um ein Gradientenfeld unterscheidet erfüllt das genauso. Sei $\\tilde{A}$ so dass $\\Curl \\tilde{A} = B$\n",
    "\n",
    "\n",
    "\n",
    "Nach (M3) gilt $\\Curl E = - \\partial_t (\\Curl \\tilde{A})) = - \\Curl( \\partial_t \\tilde{A})$. Äquivalent dazu $\\Curl(E + \\partial_t \\tilde{A}) = 0$. Gibt Potential $\\phi: \\R^3 \\rightarrow \\R $ mit $\\Grad \\phi =  E+ \\partial_t \\tilde{A}$ wenn das Gebiet brav genug ist (sternförmig oder einfach zusammenhängend). Angenommen das ist der Fall dann gilt $E = \\Grad \\phi - \\partial_t \\tilde{A}$. Mit \n",
    "$$\n",
    "A = - (\\int_{t_0}^{t} \\Grad \\phi(s) ~ \\text{ds} - \\tilde{A})\n",
    "$$ \n",
    "ist die gewünschte Anforderung erfüllt. Dh wir können annehmen $E = -\\partial_t A$. \n",
    "\n",
    "Einsetzen ergibt\n",
    "$$\n",
    "\\Curl(\\mu^{-1} \\Curl(A) - M) + \\sigma \\partial_t A +  \\epsilon \\partial_t^2A = j_i .\n",
    "$$\n",
    "\n",
    "\n",
    "Partielle Integration für curl \n",
    "$$\n",
    "\\int_\\Omega \\Curl u \\cdot v = \\int_\\Omega u \\cdot \\Curl v - \\int_{\\partial\\Omega} (u \\times n) \\cdot v\n",
    "$$\n",
    "\n",
    "\n",
    "Angenommen wir haben Dirichlet RB, dann ergibt sich die schwache Formulierung:\n",
    "\n",
    "__________\n",
    "\n",
    "Finde $A \\in H(\\Curl)$ sodass \n",
    "$$ \n",
    "\\int \\mu^{-1} \\Curl A \\Curl v +  \\sigma \\int \\partial_t A v + \\epsilon \\int \\partial_t^2 A v = \\int j_i v + \\int M \\Curl v \\qquad \\forall v \\in H(\\Curl). \n",
    "$$\n",
    "__________\n",
    "\n",
    "#### Spezialfälle\n",
    "\n",
    "Permanentmagnet:  $j_i = 0$ und  $E = 0$ $\\Rightarrow$ (1) \n",
    "\n",
    "harmonische Magnetisierung:  $j_i = 0$ , $M(x,t) = \\real(M(x)e^{i\\omega t})$ und $A = \\real(A(x)e^{i\\omega t})$ $\\Rightarrow$ (2) \n"
   ]
  }
 ],
 "metadata": {
  "kernelspec": {
   "display_name": "Python 3",
   "language": "python",
   "name": "python3"
  },
  "language_info": {
   "codemirror_mode": {
    "name": "ipython",
    "version": 3
   },
   "file_extension": ".py",
   "mimetype": "text/x-python",
   "name": "python",
   "nbconvert_exporter": "python",
   "pygments_lexer": "ipython3",
   "version": "3.8.2"
  }
 },
 "nbformat": 4,
 "nbformat_minor": 4
}
